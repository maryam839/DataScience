{
 "cells": [
  {
   "cell_type": "code",
   "execution_count": 2,
   "id": "212095a2",
   "metadata": {},
   "outputs": [],
   "source": [
    "# 10-12-2023\n",
    "# CSC461 – Assignment4 – NLP\n",
    "# Maryam Yousaf\n",
    "# FA21-BSE-077\n",
    "# BoW, TF, IDF, and then TF.IDF values for each term and the similarity between S1, S2, and S3 using cosine, manhattan, and euclidean distances"
   ]
  },
  {
   "cell_type": "code",
   "execution_count": 3,
   "id": "2cb6bc1f",
   "metadata": {},
   "outputs": [],
   "source": [
    "#import warnings to 'ignore' warning messages\n",
    "\n",
    "import warnings\n",
    "warnings.filterwarnings(\"ignore\")"
   ]
  },
  {
   "cell_type": "code",
   "execution_count": 4,
   "id": "cf039330",
   "metadata": {},
   "outputs": [],
   "source": [
    "#import important libraries\n",
    "\n",
    "from sklearn.feature_extraction.text import CountVectorizer\n",
    "from sklearn.feature_extraction.text import TfidfVectorizer\n",
    "from sklearn.metrics.pairwise import cosine_similarity\n",
    "\n",
    "import pandas as pd"
   ]
  },
  {
   "cell_type": "code",
   "execution_count": 5,
   "id": "6e63f292",
   "metadata": {},
   "outputs": [],
   "source": [
    "S1 = \"data science is one of the most important courses in computer science\"\n",
    "S2 = \"this is one of the best data science courses\"\n",
    "S3 = \"the data scientists perform data analysis\""
   ]
  },
  {
   "cell_type": "code",
   "execution_count": 6,
   "id": "dd244aa4",
   "metadata": {},
   "outputs": [
    {
     "data": {
      "text/plain": [
       "['data science is one of the most important courses in computer science',\n",
       " 'this is one of the best data science courses',\n",
       " 'the data scientists perform data analysis']"
      ]
     },
     "execution_count": 6,
     "metadata": {},
     "output_type": "execute_result"
    }
   ],
   "source": [
    "#combine three sentences to make a corpus\n",
    "\n",
    "corpus = [S1, S2, S3]\n",
    "corpus"
   ]
  },
  {
   "cell_type": "code",
   "execution_count": 7,
   "id": "254ef0b0",
   "metadata": {},
   "outputs": [
    {
     "data": {
      "text/plain": [
       "<3x16 sparse matrix of type '<class 'numpy.int64'>'\n",
       "\twith 25 stored elements in Compressed Sparse Row format>"
      ]
     },
     "execution_count": 7,
     "metadata": {},
     "output_type": "execute_result"
    }
   ],
   "source": [
    "#create a reference object to the CountVectorizer constructor\n",
    "#use the reference object to generate BoW matrix using the fit_transform() function\n",
    "# 1- Bag of Words\n",
    "count_vectorizer = CountVectorizer()\n",
    "c_vector_matrix_exp1 = count_vectorizer.fit_transform(corpus)\n",
    "c_vector_matrix_exp1"
   ]
  },
  {
   "cell_type": "code",
   "execution_count": 8,
   "id": "c28748da",
   "metadata": {},
   "outputs": [
    {
     "data": {
      "text/plain": [
       "array(['analysis', 'best', 'computer', 'courses', 'data', 'important',\n",
       "       'in', 'is', 'most', 'of', 'one', 'perform', 'science',\n",
       "       'scientists', 'the', 'this'], dtype=object)"
      ]
     },
     "execution_count": 8,
     "metadata": {},
     "output_type": "execute_result"
    }
   ],
   "source": [
    "#use get_feature_names_out() to extract vocabulary\n",
    "\n",
    "c_tokens_exp1 = count_vectorizer.get_feature_names_out()\n",
    "c_tokens_exp1"
   ]
  },
  {
   "cell_type": "code",
   "execution_count": 9,
   "id": "e6b8ab7f",
   "metadata": {},
   "outputs": [
    {
     "data": {
      "text/plain": [
       "array([[0, 0, 1, 1, 1, 1, 1, 1, 1, 1, 1, 0, 2, 0, 1, 0],\n",
       "       [0, 1, 0, 1, 1, 0, 0, 1, 0, 1, 1, 0, 1, 0, 1, 1],\n",
       "       [1, 0, 0, 0, 2, 0, 0, 0, 0, 0, 0, 1, 0, 1, 1, 0]], dtype=int64)"
      ]
     },
     "execution_count": 9,
     "metadata": {},
     "output_type": "execute_result"
    }
   ],
   "source": [
    "#convert BoW matrix to an array format\n",
    "\n",
    "c_vector_matrix_exp1.toarray()"
   ]
  },
  {
   "cell_type": "code",
   "execution_count": 10,
   "id": "c76407f9",
   "metadata": {},
   "outputs": [
    {
     "data": {
      "text/html": [
       "<div>\n",
       "<style scoped>\n",
       "    .dataframe tbody tr th:only-of-type {\n",
       "        vertical-align: middle;\n",
       "    }\n",
       "\n",
       "    .dataframe tbody tr th {\n",
       "        vertical-align: top;\n",
       "    }\n",
       "\n",
       "    .dataframe thead th {\n",
       "        text-align: right;\n",
       "    }\n",
       "</style>\n",
       "<table border=\"1\" class=\"dataframe\">\n",
       "  <thead>\n",
       "    <tr style=\"text-align: right;\">\n",
       "      <th></th>\n",
       "      <th>analysis</th>\n",
       "      <th>best</th>\n",
       "      <th>computer</th>\n",
       "      <th>courses</th>\n",
       "      <th>data</th>\n",
       "      <th>important</th>\n",
       "      <th>in</th>\n",
       "      <th>is</th>\n",
       "      <th>most</th>\n",
       "      <th>of</th>\n",
       "      <th>one</th>\n",
       "      <th>perform</th>\n",
       "      <th>science</th>\n",
       "      <th>scientists</th>\n",
       "      <th>the</th>\n",
       "      <th>this</th>\n",
       "    </tr>\n",
       "  </thead>\n",
       "  <tbody>\n",
       "    <tr>\n",
       "      <th>0</th>\n",
       "      <td>0</td>\n",
       "      <td>0</td>\n",
       "      <td>1</td>\n",
       "      <td>1</td>\n",
       "      <td>1</td>\n",
       "      <td>1</td>\n",
       "      <td>1</td>\n",
       "      <td>1</td>\n",
       "      <td>1</td>\n",
       "      <td>1</td>\n",
       "      <td>1</td>\n",
       "      <td>0</td>\n",
       "      <td>2</td>\n",
       "      <td>0</td>\n",
       "      <td>1</td>\n",
       "      <td>0</td>\n",
       "    </tr>\n",
       "    <tr>\n",
       "      <th>1</th>\n",
       "      <td>0</td>\n",
       "      <td>1</td>\n",
       "      <td>0</td>\n",
       "      <td>1</td>\n",
       "      <td>1</td>\n",
       "      <td>0</td>\n",
       "      <td>0</td>\n",
       "      <td>1</td>\n",
       "      <td>0</td>\n",
       "      <td>1</td>\n",
       "      <td>1</td>\n",
       "      <td>0</td>\n",
       "      <td>1</td>\n",
       "      <td>0</td>\n",
       "      <td>1</td>\n",
       "      <td>1</td>\n",
       "    </tr>\n",
       "    <tr>\n",
       "      <th>2</th>\n",
       "      <td>1</td>\n",
       "      <td>0</td>\n",
       "      <td>0</td>\n",
       "      <td>0</td>\n",
       "      <td>2</td>\n",
       "      <td>0</td>\n",
       "      <td>0</td>\n",
       "      <td>0</td>\n",
       "      <td>0</td>\n",
       "      <td>0</td>\n",
       "      <td>0</td>\n",
       "      <td>1</td>\n",
       "      <td>0</td>\n",
       "      <td>1</td>\n",
       "      <td>1</td>\n",
       "      <td>0</td>\n",
       "    </tr>\n",
       "  </tbody>\n",
       "</table>\n",
       "</div>"
      ],
      "text/plain": [
       "   analysis  best  computer  courses  data  important  in  is  most  of  one  \\\n",
       "0         0     0         1        1     1          1   1   1     1   1    1   \n",
       "1         0     1         0        1     1          0   0   1     0   1    1   \n",
       "2         1     0         0        0     2          0   0   0     0   0    0   \n",
       "\n",
       "   perform  science  scientists  the  this  \n",
       "0        0        2           0    1     0  \n",
       "1        0        1           0    1     1  \n",
       "2        1        0           1    1     0  "
      ]
     },
     "execution_count": 10,
     "metadata": {},
     "output_type": "execute_result"
    }
   ],
   "source": [
    "#convert BoW matrix to a Pandas dataframe\n",
    "\n",
    "bow_matrix = pd.DataFrame(data = c_vector_matrix_exp1.toarray(), columns = c_tokens_exp1)\n",
    "bow_matrix"
   ]
  },
  {
   "cell_type": "code",
   "execution_count": 11,
   "id": "e609a37b",
   "metadata": {},
   "outputs": [
    {
     "data": {
      "text/plain": [
       "<3x16 sparse matrix of type '<class 'numpy.float64'>'\n",
       "\twith 25 stored elements in Compressed Sparse Row format>"
      ]
     },
     "execution_count": 11,
     "metadata": {},
     "output_type": "execute_result"
    }
   ],
   "source": [
    "#create a reference object to the TfidfVectorizer constructor\n",
    "#use the reference object to generate tf.idf matrix using the fit_transform() function\n",
    "# 2- tf.idf\n",
    "tfidf_vect_exp1 = TfidfVectorizer()\n",
    "tfidf_matrix_exp1 = tfidf_vect_exp1.fit_transform(corpus)\n",
    "tfidf_matrix_exp1"
   ]
  },
  {
   "cell_type": "code",
   "execution_count": 12,
   "id": "6547bf67",
   "metadata": {},
   "outputs": [
    {
     "data": {
      "text/plain": [
       "array(['analysis', 'best', 'computer', 'courses', 'data', 'important',\n",
       "       'in', 'is', 'most', 'of', 'one', 'perform', 'science',\n",
       "       'scientists', 'the', 'this'], dtype=object)"
      ]
     },
     "execution_count": 12,
     "metadata": {},
     "output_type": "execute_result"
    }
   ],
   "source": [
    "#use get_feature_names_out() to extract vocabulary\n",
    "\n",
    "t_tokens_exp1 = tfidf_vect_exp1.get_feature_names_out()\n",
    "t_tokens_exp1"
   ]
  },
  {
   "cell_type": "code",
   "execution_count": 13,
   "id": "d34bdc7c",
   "metadata": {},
   "outputs": [
    {
     "data": {
      "text/html": [
       "<div>\n",
       "<style scoped>\n",
       "    .dataframe tbody tr th:only-of-type {\n",
       "        vertical-align: middle;\n",
       "    }\n",
       "\n",
       "    .dataframe tbody tr th {\n",
       "        vertical-align: top;\n",
       "    }\n",
       "\n",
       "    .dataframe thead th {\n",
       "        text-align: right;\n",
       "    }\n",
       "</style>\n",
       "<table border=\"1\" class=\"dataframe\">\n",
       "  <thead>\n",
       "    <tr style=\"text-align: right;\">\n",
       "      <th></th>\n",
       "      <th>analysis</th>\n",
       "      <th>best</th>\n",
       "      <th>computer</th>\n",
       "      <th>courses</th>\n",
       "      <th>data</th>\n",
       "      <th>important</th>\n",
       "      <th>in</th>\n",
       "      <th>is</th>\n",
       "      <th>most</th>\n",
       "      <th>of</th>\n",
       "      <th>one</th>\n",
       "      <th>perform</th>\n",
       "      <th>science</th>\n",
       "      <th>scientists</th>\n",
       "      <th>the</th>\n",
       "      <th>this</th>\n",
       "    </tr>\n",
       "  </thead>\n",
       "  <tbody>\n",
       "    <tr>\n",
       "      <th>0</th>\n",
       "      <td>0.000000</td>\n",
       "      <td>0.000000</td>\n",
       "      <td>0.327476</td>\n",
       "      <td>0.249054</td>\n",
       "      <td>0.193412</td>\n",
       "      <td>0.327476</td>\n",
       "      <td>0.327476</td>\n",
       "      <td>0.249054</td>\n",
       "      <td>0.327476</td>\n",
       "      <td>0.249054</td>\n",
       "      <td>0.249054</td>\n",
       "      <td>0.000000</td>\n",
       "      <td>0.498107</td>\n",
       "      <td>0.000000</td>\n",
       "      <td>0.193412</td>\n",
       "      <td>0.000000</td>\n",
       "    </tr>\n",
       "    <tr>\n",
       "      <th>1</th>\n",
       "      <td>0.000000</td>\n",
       "      <td>0.422968</td>\n",
       "      <td>0.000000</td>\n",
       "      <td>0.321678</td>\n",
       "      <td>0.249812</td>\n",
       "      <td>0.000000</td>\n",
       "      <td>0.000000</td>\n",
       "      <td>0.321678</td>\n",
       "      <td>0.000000</td>\n",
       "      <td>0.321678</td>\n",
       "      <td>0.321678</td>\n",
       "      <td>0.000000</td>\n",
       "      <td>0.321678</td>\n",
       "      <td>0.000000</td>\n",
       "      <td>0.249812</td>\n",
       "      <td>0.422968</td>\n",
       "    </tr>\n",
       "    <tr>\n",
       "      <th>2</th>\n",
       "      <td>0.459115</td>\n",
       "      <td>0.000000</td>\n",
       "      <td>0.000000</td>\n",
       "      <td>0.000000</td>\n",
       "      <td>0.542321</td>\n",
       "      <td>0.000000</td>\n",
       "      <td>0.000000</td>\n",
       "      <td>0.000000</td>\n",
       "      <td>0.000000</td>\n",
       "      <td>0.000000</td>\n",
       "      <td>0.000000</td>\n",
       "      <td>0.459115</td>\n",
       "      <td>0.000000</td>\n",
       "      <td>0.459115</td>\n",
       "      <td>0.271161</td>\n",
       "      <td>0.000000</td>\n",
       "    </tr>\n",
       "  </tbody>\n",
       "</table>\n",
       "</div>"
      ],
      "text/plain": [
       "   analysis      best  computer   courses      data  important        in  \\\n",
       "0  0.000000  0.000000  0.327476  0.249054  0.193412   0.327476  0.327476   \n",
       "1  0.000000  0.422968  0.000000  0.321678  0.249812   0.000000  0.000000   \n",
       "2  0.459115  0.000000  0.000000  0.000000  0.542321   0.000000  0.000000   \n",
       "\n",
       "         is      most        of       one   perform   science  scientists  \\\n",
       "0  0.249054  0.327476  0.249054  0.249054  0.000000  0.498107    0.000000   \n",
       "1  0.321678  0.000000  0.321678  0.321678  0.000000  0.321678    0.000000   \n",
       "2  0.000000  0.000000  0.000000  0.000000  0.459115  0.000000    0.459115   \n",
       "\n",
       "        the      this  \n",
       "0  0.193412  0.000000  \n",
       "1  0.249812  0.422968  \n",
       "2  0.271161  0.000000  "
      ]
     },
     "execution_count": 13,
     "metadata": {},
     "output_type": "execute_result"
    }
   ],
   "source": [
    "#convert tf.idf matrix to a Pandas dataframe\n",
    "\n",
    "tf_idf_exp1 = pd.DataFrame(data = tfidf_matrix_exp1.toarray(), columns = t_tokens_exp1)\n",
    "tf_idf_exp1"
   ]
  },
  {
   "cell_type": "code",
   "execution_count": 14,
   "id": "43520087",
   "metadata": {},
   "outputs": [
    {
     "data": {
      "text/plain": [
       "array([[0, 0, 1, 1, 1, 1, 1, 1, 1, 1, 1, 0, 2, 0, 1, 0],\n",
       "       [0, 1, 0, 1, 1, 0, 0, 1, 0, 1, 1, 0, 1, 0, 1, 1],\n",
       "       [1, 0, 0, 0, 2, 0, 0, 0, 0, 0, 0, 1, 0, 1, 1, 0]], dtype=int64)"
      ]
     },
     "execution_count": 14,
     "metadata": {},
     "output_type": "execute_result"
    }
   ],
   "source": [
    "# 3- calculating term frequency\n",
    "tf_vectorizer = CountVectorizer()\n",
    "tf_count = tf_vectorizer.fit_transform(corpus)\n",
    "#use get_feature_names_out() to extract vocabulary\n",
    "vocabulary = tf_vectorizer.get_feature_names_out()\n",
    "array_tf = tf_count.toarray()\n",
    "array_tf"
   ]
  },
  {
   "cell_type": "code",
   "execution_count": 15,
   "id": "aa54ef81",
   "metadata": {},
   "outputs": [],
   "source": [
    "tf_array_sum = array_tf / array_tf.sum(axis=1, keepdims=True) # it take an element and divide it with the sum of entire row of array thats why axis is 1 and keep dimension is true so that summed array are same \n",
    "#convert tf matrix to a Pandas dataframe\n",
    "tf_exp1 = pd.DataFrame(data = tf_array_sum, columns= vocabulary)"
   ]
  },
  {
   "cell_type": "code",
   "execution_count": 16,
   "id": "ed98bc41",
   "metadata": {},
   "outputs": [
    {
     "data": {
      "text/html": [
       "<div>\n",
       "<style scoped>\n",
       "    .dataframe tbody tr th:only-of-type {\n",
       "        vertical-align: middle;\n",
       "    }\n",
       "\n",
       "    .dataframe tbody tr th {\n",
       "        vertical-align: top;\n",
       "    }\n",
       "\n",
       "    .dataframe thead th {\n",
       "        text-align: right;\n",
       "    }\n",
       "</style>\n",
       "<table border=\"1\" class=\"dataframe\">\n",
       "  <thead>\n",
       "    <tr style=\"text-align: right;\">\n",
       "      <th></th>\n",
       "      <th>analysis</th>\n",
       "      <th>best</th>\n",
       "      <th>computer</th>\n",
       "      <th>courses</th>\n",
       "      <th>data</th>\n",
       "      <th>important</th>\n",
       "      <th>in</th>\n",
       "      <th>is</th>\n",
       "      <th>most</th>\n",
       "      <th>of</th>\n",
       "      <th>one</th>\n",
       "      <th>perform</th>\n",
       "      <th>science</th>\n",
       "      <th>scientists</th>\n",
       "      <th>the</th>\n",
       "      <th>this</th>\n",
       "    </tr>\n",
       "  </thead>\n",
       "  <tbody>\n",
       "    <tr>\n",
       "      <th>0</th>\n",
       "      <td>0.000000</td>\n",
       "      <td>0.000000</td>\n",
       "      <td>0.083333</td>\n",
       "      <td>0.083333</td>\n",
       "      <td>0.083333</td>\n",
       "      <td>0.083333</td>\n",
       "      <td>0.083333</td>\n",
       "      <td>0.083333</td>\n",
       "      <td>0.083333</td>\n",
       "      <td>0.083333</td>\n",
       "      <td>0.083333</td>\n",
       "      <td>0.000000</td>\n",
       "      <td>0.166667</td>\n",
       "      <td>0.000000</td>\n",
       "      <td>0.083333</td>\n",
       "      <td>0.000000</td>\n",
       "    </tr>\n",
       "    <tr>\n",
       "      <th>1</th>\n",
       "      <td>0.000000</td>\n",
       "      <td>0.111111</td>\n",
       "      <td>0.000000</td>\n",
       "      <td>0.111111</td>\n",
       "      <td>0.111111</td>\n",
       "      <td>0.000000</td>\n",
       "      <td>0.000000</td>\n",
       "      <td>0.111111</td>\n",
       "      <td>0.000000</td>\n",
       "      <td>0.111111</td>\n",
       "      <td>0.111111</td>\n",
       "      <td>0.000000</td>\n",
       "      <td>0.111111</td>\n",
       "      <td>0.000000</td>\n",
       "      <td>0.111111</td>\n",
       "      <td>0.111111</td>\n",
       "    </tr>\n",
       "    <tr>\n",
       "      <th>2</th>\n",
       "      <td>0.166667</td>\n",
       "      <td>0.000000</td>\n",
       "      <td>0.000000</td>\n",
       "      <td>0.000000</td>\n",
       "      <td>0.333333</td>\n",
       "      <td>0.000000</td>\n",
       "      <td>0.000000</td>\n",
       "      <td>0.000000</td>\n",
       "      <td>0.000000</td>\n",
       "      <td>0.000000</td>\n",
       "      <td>0.000000</td>\n",
       "      <td>0.166667</td>\n",
       "      <td>0.000000</td>\n",
       "      <td>0.166667</td>\n",
       "      <td>0.166667</td>\n",
       "      <td>0.000000</td>\n",
       "    </tr>\n",
       "  </tbody>\n",
       "</table>\n",
       "</div>"
      ],
      "text/plain": [
       "   analysis      best  computer   courses      data  important        in  \\\n",
       "0  0.000000  0.000000  0.083333  0.083333  0.083333   0.083333  0.083333   \n",
       "1  0.000000  0.111111  0.000000  0.111111  0.111111   0.000000  0.000000   \n",
       "2  0.166667  0.000000  0.000000  0.000000  0.333333   0.000000  0.000000   \n",
       "\n",
       "         is      most        of       one   perform   science  scientists  \\\n",
       "0  0.083333  0.083333  0.083333  0.083333  0.000000  0.166667    0.000000   \n",
       "1  0.111111  0.000000  0.111111  0.111111  0.000000  0.111111    0.000000   \n",
       "2  0.000000  0.000000  0.000000  0.000000  0.166667  0.000000    0.166667   \n",
       "\n",
       "        the      this  \n",
       "0  0.083333  0.000000  \n",
       "1  0.111111  0.111111  \n",
       "2  0.166667  0.000000  "
      ]
     },
     "execution_count": 16,
     "metadata": {},
     "output_type": "execute_result"
    }
   ],
   "source": [
    "tf_exp1"
   ]
  },
  {
   "cell_type": "code",
   "execution_count": 17,
   "id": "dfc2fffb",
   "metadata": {},
   "outputs": [
    {
     "data": {
      "text/plain": [
       "<3x16 sparse matrix of type '<class 'numpy.int64'>'\n",
       "\twith 25 stored elements in Compressed Sparse Row format>"
      ]
     },
     "execution_count": 17,
     "metadata": {},
     "output_type": "execute_result"
    }
   ],
   "source": [
    "# 4- calculating idf\n",
    "idf_vectorizer = CountVectorizer()\n",
    "idf_document = idf_vectorizer.fit_transform(corpus)\n",
    "idf_document"
   ]
  },
  {
   "cell_type": "code",
   "execution_count": 25,
   "id": "147db520",
   "metadata": {},
   "outputs": [],
   "source": [
    "import numpy as np\n",
    "idf = np.log(idf_document.shape[0] / (1 + (idf_document> 0).sum(axis=0))) # .shape[0]The number of rows, which corresponds to the number of documents in the dataset.\n",
    "# IDF=log(N/1+df) formula used for this "
   ]
  },
  {
   "cell_type": "code",
   "execution_count": 27,
   "id": "4a26ad40",
   "metadata": {},
   "outputs": [
    {
     "name": "stdout",
     "output_type": "stream",
     "text": [
      "analysis: 0.4054651081081644\n",
      "best: 0.4054651081081644\n",
      "computer: 0.4054651081081644\n",
      "courses: 0.0\n",
      "data: 0\n",
      "important: 0.4054651081081644\n",
      "in: 0.4054651081081644\n",
      "is: 0.0\n",
      "most: 0.4054651081081644\n",
      "of: 0.0\n",
      "one: 0.0\n",
      "perform: 0.4054651081081644\n",
      "science: 0.0\n",
      "scientists: 0.4054651081081644\n",
      "the: 0\n",
      "this: 0.4054651081081644\n"
     ]
    }
   ],
   "source": [
    "idf_names = idf_vectorizer.get_feature_names_out()\n",
    "idf_values = idf.tolist()[0]\n",
    "\n",
    "for i in range(len(idf_names)):\n",
    "    feature = idf_names[i]\n",
    "    idf_value = idf_values[i]\n",
    "    if idf_value < 0:\n",
    "        idf_value = 0\n",
    "    print(f\"{feature}: {idf_value}\")\n",
    "    "
   ]
  },
  {
   "cell_type": "code",
   "execution_count": 29,
   "id": "fd50e5b1",
   "metadata": {},
   "outputs": [
    {
     "data": {
      "text/html": [
       "<div>\n",
       "<style scoped>\n",
       "    .dataframe tbody tr th:only-of-type {\n",
       "        vertical-align: middle;\n",
       "    }\n",
       "\n",
       "    .dataframe tbody tr th {\n",
       "        vertical-align: top;\n",
       "    }\n",
       "\n",
       "    .dataframe thead th {\n",
       "        text-align: right;\n",
       "    }\n",
       "</style>\n",
       "<table border=\"1\" class=\"dataframe\">\n",
       "  <thead>\n",
       "    <tr style=\"text-align: right;\">\n",
       "      <th></th>\n",
       "      <th>0</th>\n",
       "      <th>1</th>\n",
       "      <th>2</th>\n",
       "    </tr>\n",
       "  </thead>\n",
       "  <tbody>\n",
       "    <tr>\n",
       "      <th>0</th>\n",
       "      <td>1.000000</td>\n",
       "      <td>0.577324</td>\n",
       "      <td>0.157338</td>\n",
       "    </tr>\n",
       "    <tr>\n",
       "      <th>1</th>\n",
       "      <td>0.577324</td>\n",
       "      <td>1.000000</td>\n",
       "      <td>0.203217</td>\n",
       "    </tr>\n",
       "    <tr>\n",
       "      <th>2</th>\n",
       "      <td>0.157338</td>\n",
       "      <td>0.203217</td>\n",
       "      <td>1.000000</td>\n",
       "    </tr>\n",
       "  </tbody>\n",
       "</table>\n",
       "</div>"
      ],
      "text/plain": [
       "          0         1         2\n",
       "0  1.000000  0.577324  0.157338\n",
       "1  0.577324  1.000000  0.203217\n",
       "2  0.157338  0.203217  1.000000"
      ]
     },
     "execution_count": 29,
     "metadata": {},
     "output_type": "execute_result"
    }
   ],
   "source": [
    "#  Q2- Compute the similarity between S1, S2, and S3 using cosine, manhattan, and euclidean distances\n",
    "#  1- Using cosine\n",
    "t_cosine_similarity_matrix_exp1 = cosine_similarity(tfidf_matrix_exp1)\n",
    "t_cosine_similarity_matrix_exp1\n",
    "Bow_t_similarity_exp1 = pd.DataFrame(data = t_cosine_similarity_matrix_exp1)\n",
    "Bow_t_similarity_exp1"
   ]
  },
  {
   "cell_type": "code",
   "execution_count": 30,
   "id": "b1b1eb89",
   "metadata": {},
   "outputs": [
    {
     "data": {
      "text/plain": [
       "0.7777777777777777"
      ]
     },
     "execution_count": 30,
     "metadata": {},
     "output_type": "execute_result"
    }
   ],
   "source": [
    "#import scityblock (manhattan distance) from scipy\n",
    "\n",
    "from scipy.spatial.distance import cityblock\n",
    "#calculate scityblock (manhattan distance) between two document vectors (s1, s2)\n",
    "\n",
    "cityblock(tf_exp1.iloc[0], tf_exp1.iloc[1])"
   ]
  },
  {
   "cell_type": "code",
   "execution_count": 32,
   "id": "6d2de860",
   "metadata": {},
   "outputs": [
    {
     "data": {
      "text/plain": [
       "1.5555555555555554"
      ]
     },
     "execution_count": 32,
     "metadata": {},
     "output_type": "execute_result"
    }
   ],
   "source": [
    "#calculate scityblock (manhattan distance) between two document vectors (s2, s3)\n",
    "cityblock(tf_exp1.iloc[1], tf_exp1.iloc[2])"
   ]
  },
  {
   "cell_type": "code",
   "execution_count": 33,
   "id": "4a27f0b5",
   "metadata": {},
   "outputs": [
    {
     "data": {
      "text/plain": [
       "1.6666666666666665"
      ]
     },
     "execution_count": 33,
     "metadata": {},
     "output_type": "execute_result"
    }
   ],
   "source": [
    "#calculate scityblock (manhattan distance) between two document vectors (s1, s3)\n",
    "cityblock(tf_exp1.iloc[0], tf_exp1.iloc[2])"
   ]
  },
  {
   "cell_type": "code",
   "execution_count": 34,
   "id": "6ec9f66a",
   "metadata": {},
   "outputs": [
    {
     "data": {
      "text/plain": [
       "0.24532669073132907"
      ]
     },
     "execution_count": 34,
     "metadata": {},
     "output_type": "execute_result"
    }
   ],
   "source": [
    "import math\n",
    "#calculate euclidean distance between two document vectors (s1, s2)\n",
    "\n",
    "math.dist(tf_exp1.iloc[0], tf_exp1.iloc[1])"
   ]
  },
  {
   "cell_type": "code",
   "execution_count": 35,
   "id": "bedd9c6e",
   "metadata": {},
   "outputs": [
    {
     "data": {
      "text/plain": [
       "0.4714045207910317"
      ]
     },
     "execution_count": 35,
     "metadata": {},
     "output_type": "execute_result"
    }
   ],
   "source": [
    "#calculate euclidean distance between two document vectors (s2, s3)\n",
    "\n",
    "math.dist(tf_exp1.iloc[1], tf_exp1.iloc[2])"
   ]
  },
  {
   "cell_type": "code",
   "execution_count": 36,
   "id": "7c1ba234",
   "metadata": {},
   "outputs": [
    {
     "data": {
      "text/plain": [
       "0.485912657903775"
      ]
     },
     "execution_count": 36,
     "metadata": {},
     "output_type": "execute_result"
    }
   ],
   "source": [
    "#calculate euclidean distance between two document vectors (s1, s3)\n",
    "\n",
    "math.dist(tf_exp1.iloc[0], tf_exp1.iloc[2])"
   ]
  },
  {
   "cell_type": "code",
   "execution_count": null,
   "id": "8752a919",
   "metadata": {},
   "outputs": [],
   "source": []
  }
 ],
 "metadata": {
  "kernelspec": {
   "display_name": "Python 3 (ipykernel)",
   "language": "python",
   "name": "python3"
  },
  "language_info": {
   "codemirror_mode": {
    "name": "ipython",
    "version": 3
   },
   "file_extension": ".py",
   "mimetype": "text/x-python",
   "name": "python",
   "nbconvert_exporter": "python",
   "pygments_lexer": "ipython3",
   "version": "3.11.4"
  }
 },
 "nbformat": 4,
 "nbformat_minor": 5
}
