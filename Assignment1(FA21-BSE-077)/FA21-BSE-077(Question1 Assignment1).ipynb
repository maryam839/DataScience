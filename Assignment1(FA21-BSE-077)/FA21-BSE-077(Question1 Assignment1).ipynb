{
 "cells": [
  {
   "cell_type": "code",
   "execution_count": 1,
   "id": "97df0486",
   "metadata": {},
   "outputs": [],
   "source": [
    "# 17-9-23\n",
    "# CSC461 – Assignment1 – Web Scraping \n",
    "# Maryam Yousaf\n",
    "# FA21-BSE-077\n",
    "# Scrapped title and rating of 5 favourite movie of yours from imdb site and export it to excel file"
   ]
  },
  {
   "cell_type": "code",
   "execution_count": 2,
   "id": "876d764c",
   "metadata": {},
   "outputs": [],
   "source": [
    "import requests\n",
    "from bs4 import BeautifulSoup\n",
    "import time\n",
    "import openpyxl\n",
    "headers = {'User-Agent': 'Mozilla/5.0 (Windows NT 10.0; Win64; x64) AppleWebKit/537.36 (KHTML, like Gecko) Chrome/58.0.3029.110 Safari/537.36'}"
   ]
  },
  {
   "cell_type": "code",
   "execution_count": 3,
   "id": "8b8f0b5e",
   "metadata": {},
   "outputs": [],
   "source": [
    "movie_1 = requests.get(\"https://www.imdb.com/title/tt1375666/?ref_=nv_sr_srsg_0_tt_8_nm_0_q_incep\", headers=headers)"
   ]
  },
  {
   "cell_type": "code",
   "execution_count": 4,
   "id": "af0310c8",
   "metadata": {},
   "outputs": [],
   "source": [
    "movie_2 = requests.get(\"https://www.imdb.com/title/tt2737304/?ref_=nv_sr_srsg_1_tt_7_nm_0_q_birdbo\",headers=headers)"
   ]
  },
  {
   "cell_type": "code",
   "execution_count": 5,
   "id": "f18b093b",
   "metadata": {},
   "outputs": [],
   "source": [
    "movie_3 = requests.get(\"https://www.imdb.com/title/tt10872600/?ref_=nv_sr_srsg_0_tt_8_nm_0_q_spiderman%2520no%2520way%2520home\",headers=headers)"
   ]
  },
  {
   "cell_type": "code",
   "execution_count": 6,
   "id": "37b5a1b6",
   "metadata": {},
   "outputs": [],
   "source": [
    "movie_4 = requests.get(\"https://www.imdb.com/title/tt5814060/?ref_=nv_sr_srsg_4_tt_7_nm_0_q_the%2520nu\",headers=headers)"
   ]
  },
  {
   "cell_type": "code",
   "execution_count": 7,
   "id": "203e94c6",
   "metadata": {},
   "outputs": [],
   "source": [
    "movie_5 = requests.get(\"https://www.imdb.com/title/tt1187043/?ref_=fn_al_tt_1\",headers=headers)"
   ]
  },
  {
   "cell_type": "code",
   "execution_count": 8,
   "id": "5574e967",
   "metadata": {},
   "outputs": [],
   "source": [
    "fav_movies = [movie_1,movie_2,movie_3,movie_4,movie_5]"
   ]
  },
  {
   "cell_type": "code",
   "execution_count": 9,
   "id": "02e6c5b7",
   "metadata": {},
   "outputs": [
    {
     "name": "stdout",
     "output_type": "stream",
     "text": [
      "['5 Movies Rating']\n"
     ]
    }
   ],
   "source": [
    "Excel_file = openpyxl.Workbook()\n",
    "Excel_sheet = Excel_file.active\n",
    "Excel_sheet.title = \"5 Movies Rating\"\n",
    "print(Excel_file.sheetnames)\n",
    "Excel_sheet.append(['Movie Name','IMDB Rating'])"
   ]
  },
  {
   "cell_type": "code",
   "execution_count": 10,
   "id": "e8ee8db1",
   "metadata": {},
   "outputs": [
    {
     "name": "stdout",
     "output_type": "stream",
     "text": [
      "Inception\n",
      "8.8\n",
      "Bird Box\n",
      "6.6\n",
      "Spider-Man: No Way Home\n",
      "8.2\n",
      "The Nun\n",
      "5.3\n",
      "3 Idiots\n",
      "8.4\n"
     ]
    }
   ],
   "source": [
    "for movies in fav_movies:\n",
    "    html_content = movies.text\n",
    "    soup = BeautifulSoup(html_content, 'html.parser')\n",
    "    Outer_div = soup.find('div', class_ = 'sc-e226b0e3-3 jJsEuz')\n",
    "    if Outer_div:\n",
    "        Inner_div = Outer_div.find('div', class_ = 'sc-dffc6c81-0 iwmAVw')\n",
    "        Title = Inner_div.find('span', class_ = 'sc-afe43def-1 fDTGTb')\n",
    "        Rating = Outer_div.find('span', class_ = 'sc-bde20123-1 iZlgcd')\n",
    "        if Title: \n",
    "            title = Title.text\n",
    "            print(title)\n",
    "        if Rating:\n",
    "            rating =float(Rating.text) \n",
    "            print(rating)\n",
    "        else:\n",
    "            print(\"No element found\")\n",
    "    time.sleep(1)\n",
    "    Excel_sheet.append([title,rating])"
   ]
  },
  {
   "cell_type": "code",
   "execution_count": 11,
   "id": "4648c86c",
   "metadata": {},
   "outputs": [],
   "source": [
    "Excel_file.save(\"5 Movies Rating.xlsx\")"
   ]
  },
  {
   "cell_type": "code",
   "execution_count": null,
   "id": "20fa6206",
   "metadata": {},
   "outputs": [],
   "source": []
  }
 ],
 "metadata": {
  "kernelspec": {
   "display_name": "Python 3 (ipykernel)",
   "language": "python",
   "name": "python3"
  },
  "language_info": {
   "codemirror_mode": {
    "name": "ipython",
    "version": 3
   },
   "file_extension": ".py",
   "mimetype": "text/x-python",
   "name": "python",
   "nbconvert_exporter": "python",
   "pygments_lexer": "ipython3",
   "version": "3.11.4"
  }
 },
 "nbformat": 4,
 "nbformat_minor": 5
}
