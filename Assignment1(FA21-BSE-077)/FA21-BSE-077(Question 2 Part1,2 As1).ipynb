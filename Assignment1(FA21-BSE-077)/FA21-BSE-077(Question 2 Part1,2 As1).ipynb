{
 "cells": [
  {
   "cell_type": "code",
   "execution_count": 18,
   "id": "2339541c",
   "metadata": {},
   "outputs": [],
   "source": [
    "# 17-9-23\n",
    "# CSC461 – Assignment1 – Web Scraping \n",
    "# Maryam Yousaf\n",
    "# FA21-BSE-077\n",
    "# Question2 Part 1 Scrapped birthdate of those similiar to your birthdate from the site provided and export it to text file\n",
    "# Question2 Part 2 Scrapped important events that occured on your birthdate from the site provided and export it to text file\n",
    "from bs4 import BeautifulSoup\n",
    "import requests\n"
   ]
  },
  {
   "cell_type": "code",
   "execution_count": 19,
   "id": "8e27fc56",
   "metadata": {},
   "outputs": [
    {
     "name": "stdout",
     "output_type": "stream",
     "text": [
      "https://www.timeanddate.com/on-this-day/october/16\n"
     ]
    }
   ],
   "source": [
    "link = \"https://www.timeanddate.com/on-this-day\"\n",
    "my_Birthday = \"october/16\"\n",
    "complete_link = f\"{link}/{my_Birthday}\"\n",
    "print(complete_link)"
   ]
  },
  {
   "cell_type": "code",
   "execution_count": 20,
   "id": "d0c49117",
   "metadata": {},
   "outputs": [],
   "source": [
    "response = requests.get(complete_link)\n",
    "soup = BeautifulSoup(response.text, 'html.parser')"
   ]
  },
  {
   "cell_type": "code",
   "execution_count": 21,
   "id": "28a903e1",
   "metadata": {},
   "outputs": [
    {
     "name": "stdout",
     "output_type": "stream",
     "text": [
      "\n",
      "1977 John Mayer\n",
      "American singer-songwriter, guitarist, producer\n",
      "\n",
      "\n",
      "1974 Paul Kariya\n",
      "Canadian ice hockey player\n",
      "\n",
      "\n",
      "1925 Angela Lansbury\n",
      "English/American actress, singer\n",
      "\n",
      "\n",
      "1888 Eugene O'Neill\n",
      "American playwright, Nobel Prize laureate\n",
      "\n",
      "\n",
      "1886 David Ben-Gurion\n",
      "Israeli politician, 1st Prime Minister of Israel\n",
      "\n"
     ]
    }
   ],
   "source": [
    "if(response.status_code == 200):\n",
    "    main_Div = soup.find('article', class_ = \"otd-row otd-life\")\n",
    "    outer_Div = main_Div.find('h3', class_ = \"otd-life__title\")\n",
    "    #print(\"Actual text of outer_div:\", outer_Div.text.strip())\n",
    "    if outer_Div and outer_Div.text.strip()  == \"Births On This Day, October 16\":\n",
    "        inner_Div = main_Div.find('ul',class_ = \"list--big\")\n",
    "        double_Div = inner_Div('li')\n",
    "        with open('Part1.txt', 'w') as file:\n",
    "            file.write(\"On 16 October The following people share BirthDate \\n\")\n",
    "            for BirthDates in double_Div:\n",
    "                    print(BirthDates.text)\n",
    "                    written = BirthDates.text + '\\n' \n",
    "                    file.write(written)\n",
    "    else:\n",
    "        print(\"Nothing Found\")"
   ]
  },
  {
   "cell_type": "code",
   "execution_count": 22,
   "id": "5ba9f35e",
   "metadata": {},
   "outputs": [
    {
     "name": "stdout",
     "output_type": "stream",
     "text": [
      "https://www.britannica.com/on-this-day/october-16\n"
     ]
    }
   ],
   "source": [
    "link2 = \"https://www.britannica.com/on-this-day\"\n",
    "my_Birthday2 = \"october-16\"\n",
    "complete_link2 = f\"{link2}/{my_Birthday2}\"\n",
    "print(complete_link2)"
   ]
  },
  {
   "cell_type": "code",
   "execution_count": 23,
   "id": "3b3b594d",
   "metadata": {},
   "outputs": [],
   "source": [
    "response2 = requests.get(complete_link2)\n",
    "soup2 = BeautifulSoup(response2.text, 'html.parser')"
   ]
  },
  {
   "cell_type": "code",
   "execution_count": 24,
   "id": "ff70cf52",
   "metadata": {},
   "outputs": [
    {
     "name": "stdout",
     "output_type": "stream",
     "text": [
      "\n",
      "Marie-Antoinette guillotined\n",
      "After the French Revolution began, Marie-Antoinette, queen consort of Louis XVI, was targeted by agitators who, enraged by her extravagance and attempts to save the monarchy, ultimately guillotined her on this day in 1793.\n",
      "\n",
      "\n",
      "                             Hungarian boxer László Papp—who was the first three-time Olympic boxing champion, winning gold medals in 1948, 1952, and 1956—died at age 77. How much do you know about boxing?German Federal Archives (Bundesarchiv), Bild 183-34311-0002\n",
      " \n",
      "\n",
      "\n",
      "                             Karol Józef Wojtyła of Poland was elected pope; he assumed the name John Paul II and was the first non-Italian pontiff in 455 years. Test your knowledge of the papacyClaudio Luffoli—AP/REX/Shutterstock.com\n",
      " \n",
      "\n",
      "\n",
      "                             During the awards ceremony for the 200-metre race at the Mexico City Olympics, American sprinters Tommie Smith and John Carlos gave a Black-power salute, for which they were later ordered to leave the Games. Take our quiz about Olympic historyAP—REX/Shutterstock.com\n",
      " \n",
      "\n",
      "\n",
      " China, eager to join the nuclear race, successfully detonated its first atomic bomb. Sort fact from fiction in our quiz about ChinaEncyclopædia Britannica, Inc.\n",
      " \n",
      "\n",
      "\n",
      "                             Ten of the 12 defendants sentenced to death at the Nürnberg trials, including Joachim von Ribbentrop and Ernst Kaltenbrunner, were executed. Take our quiz about infamous NazisEncyclopædia Britannica, Inc.\n",
      " \n",
      "\n",
      "\n",
      " Margaret Sanger, an activist for women's reproductive rights, opened the first birth control clinic in the United States, in Brooklyn, New York.Bain News Service/Library of Congress, Washington, D.C. (LC-DIG-ggbain-16122)\n",
      " \n",
      "\n",
      "\n",
      "                             American dramatist Eugene O'Neill, winner of the Nobel Prize for Literature in 1936, was born. Test your knowledge of Nobel laureates in literatureHulton Archive/Getty Images\n",
      " \n",
      "\n",
      "\n",
      "                             The Cardiff Giant was “discovered” in New York state; originally thought to be a petrified prehistoric man, it was later revealed to be a hoax.\n",
      "\n",
      "\n",
      " John Brown, a militant abolitionist, made his legendary raid on the U.S. arsenal at Harpers Ferry. How much do you know about American history?National Archives and Records Administration (Photo Number: 531116)\n",
      " \n",
      "\n",
      "\n",
      "                             English novelist Charlotte Brontë (under the pseudonym Currer Bell) published Jane Eyre, which became a classic noted for giving new truthfulness to the Victorian novel. Take our quiz about English authors© Photos.com/Thinkstock\n",
      " \n",
      "\n",
      "\n",
      " William Thomas Green Morton first demonstrated the use of ether as a general anesthetic before a gathering of physicians at Massachusetts General Hospital in Boston. Take our quiz about medical conditions and discoveriesScience History Images/Alamy\n",
      " \n",
      "\n",
      "\n",
      " Napoleon led his troops against an allied force of Austrian, Prussian, Russian, and Swedish troops during the Battle of Leipzig. Test your knowledge of the history of warfare© Photos.com/Jupiterimages\n",
      " \n",
      "\n",
      "\n",
      "                             American lexicographer Noah Webster, who was instrumental in giving American English a dignity and vitality of its own, was born.Library of Congress, Washington, D.C. (digital file no. cph 3b47136)\n",
      " \n"
     ]
    }
   ],
   "source": [
    "if(response2.status_code == 200):\n",
    "    outer_Div2 = soup2.find('div', class_= 'card-body')\n",
    "    head_Div2 = outer_Div2.find('div', class_= 'title font-18 font-weight-bold mb-10').text\n",
    "    text_Div = outer_Div2.find('div', class_= 'description font-serif')\n",
    "    with open('Part1.txt', 'a',encoding='utf-8') as file:\n",
    "            file.write(\"\\nOn my birthDate The following events happened:\\n\")\n",
    "            written = '\\n' + head_Div2 + '\\n' + text_Div.text \n",
    "            print(written)\n",
    "            file.write(written)\n",
    "            file.close()\n",
    "    second_Div = soup2.find_all('div', class_ = 'card-body font-serif')\n",
    "    with open('Part1.txt', 'a',encoding='utf-8') as file:\n",
    "               file.write(\"\\nMore Events That Ocuured on my birthDate:\\n\")\n",
    "               for Events in second_Div:\n",
    "                            indented_Data = \"\\n\" + Events.text.replace('\\n', '\\n ')\n",
    "                            print(indented_Data)\n",
    "                            file.write(indented_Data)\n",
    "else:\n",
    "    print(\"Incorrect-url\")"
   ]
  },
  {
   "cell_type": "code",
   "execution_count": null,
   "id": "87a96903",
   "metadata": {},
   "outputs": [],
   "source": []
  }
 ],
 "metadata": {
  "kernelspec": {
   "display_name": "Python 3 (ipykernel)",
   "language": "python",
   "name": "python3"
  },
  "language_info": {
   "codemirror_mode": {
    "name": "ipython",
    "version": 3
   },
   "file_extension": ".py",
   "mimetype": "text/x-python",
   "name": "python",
   "nbconvert_exporter": "python",
   "pygments_lexer": "ipython3",
   "version": "3.11.4"
  }
 },
 "nbformat": 4,
 "nbformat_minor": 5
}
