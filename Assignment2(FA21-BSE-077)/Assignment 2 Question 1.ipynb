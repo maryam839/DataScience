{
 "cells": [
  {
   "cell_type": "code",
   "execution_count": 1,
   "id": "18bbb918",
   "metadata": {},
   "outputs": [],
   "source": [
    "# 30-9-2023\n",
    "# CSC461 – Assignment2 – Regular Expressions\n",
    "# Maryam Yousaf\n",
    "# FA21-BSE-077\n",
    "# Every part requires to extract an expression from the text file provided"
   ]
  },
  {
   "cell_type": "code",
   "execution_count": 2,
   "id": "aaa78343",
   "metadata": {},
   "outputs": [
    {
     "name": "stdout",
     "output_type": "stream",
     "text": [
      "The outlook wasn't brilliant for the Mudville nine that day; \n",
      "The score stood four to two, with but one inning more to play,\n",
      "And then when Cooney died at first, and Barrows did the same,\n",
      "A pall-like silence fell upon the patrons of the game. \n",
      "\n",
      "A straggling few got up to go in deep despair. The rest\n",
      "Clung to that hope which springs eternal in the human breast;\n",
      "They thought, \"If only Casey could but get a whack at that--\n",
      "We'd put up even money now, with Casey at the bat.\" \n",
      "\n",
      "But Flynn preceded Casey, as did also Jimmy Blake,\n",
      "And the former was a lulu, while the latter was a cake;\n",
      "So upon that stricken multitude grim melancholy sat,\n",
      "For there seemed but little chance of Casey getting to the bat.\n",
      "\n",
      "But Flynn let drive a single, to the wonderment of all,\n",
      "And Blake, the much despised, tore the cover off the ball;\n",
      "And when the dust had lifted, and men saw what had occurred,\n",
      "There was Jimmy safe at second and Flynn a-hugging third. \n",
      "\n",
      "Then from five thousand throats and more there rose a lusty yell;\n",
      "It rumbled through the valley, it rattled in the dell;\n",
      "It pounded on the mountain and recoiled upon the flat,\n",
      "For Casey, mighty Casey, was advancing to the bat. \n",
      "\n",
      "There was ease in Casey's manner as he stepped into his place;\n",
      "There was pride in Casey's bearing and a smile lit Casey's face.\n",
      "And when, responding to the cheers, he lightly doffed his hat,\n",
      "No stranger in the crowd could doubt 'twas Casey at the bat. \n",
      "\n",
      "Ten thousand eyes were on him as he rubbed his hands with dirt;\n",
      "Five thousand tongues applauded when he wiped them on his shirt;\n",
      "Then while the writhing pitcher ground the ball into his hip,\n",
      "Defiance flashed in Casey's eye, a sneer curled Casey's lip. \n",
      "\n",
      "And now the leather-covered sphere came hurtling through the air,\n",
      "And Casey stood a-watching it in haughty grandeur there.\n",
      "Close by the sturdy batsman the ball unheeded sped--\n",
      "\"That ain't my style,\" said Casey. \"Strike one!\" the umpire said. \n",
      "\n",
      "From the benches, black with people, there went up a muffled roar,\n",
      "Like the beating of the storm-waves on a stern and distant shore;\n",
      "\"Kill him! Kill the umpire!\" shouted some one on the stand;\n",
      "And it's likely they'd have killed him had not Casey raised his hand. \n",
      "\n",
      "With a smile of Christian charity great Casey's visage shone;\n",
      "He stilled the rising tumult; he bade the game go on;\n",
      "He signaled to the pitcher, and once more the dun sphere flew;\n",
      "But Casey still ignored it, and the umpire said, \"Strike two!\" \n",
      "\n",
      "\"Fraud!\" cried the maddened thousands, and echo answered \"Fraud!\"\n",
      "But one scornful look from Casey and the audience was awed.\n",
      "They saw his face grow stern and cold, they saw his muscles strain,\n",
      "And they knew that Casey wouldn't let that ball go by again. \n",
      "\n",
      "The sneer has fled from Casey's lip, his teeth are clenched in hate;\n",
      "He pounds with cruel violence his bat upon the plate.\n",
      "And now the pitcher holds the ball, and now he lets it go.\n",
      "And now the air is shattered by the force of Casey's blow. \n",
      "\n",
      "Oh, somewhere in this favored land the sun is shining bright;\n",
      "The band is playing somewhere, and somewhere hearts are light,\n",
      "And somewhere men are laughing, and little children shout;\n",
      "But there is no joy in Mudville--great Casey has struck out\n",
      "\n"
     ]
    }
   ],
   "source": [
    "#importing Regex library\n",
    "import re\n",
    "\n",
    "with open('example-text.txt','r') as file:\n",
    "    content = file.read()\n",
    "    print(content)"
   ]
  },
  {
   "cell_type": "code",
   "execution_count": 3,
   "id": "16be0f85",
   "metadata": {},
   "outputs": [
    {
     "name": "stdout",
     "output_type": "stream",
     "text": [
      "['The', 'outlook', 'wasn', 't', 'brilliant', 'for', 'the', 'Mudville', 'nine', 'that', 'day', 'The', 'score', 'stood', 'four', 'to', 'two', 'with', 'but', 'one', 'inning', 'more', 'to', 'play', 'And', 'then', 'when', 'Cooney', 'died', 'at', 'first', 'and', 'Barrows', 'did', 'the', 'same', 'A', 'pall', 'like', 'silence', 'fell', 'upon', 'the', 'patrons', 'of', 'the', 'game', 'A', 'straggling', 'few', 'got', 'up', 'to', 'go', 'in', 'deep', 'despair', 'The', 'rest', 'Clung', 'to', 'that', 'hope', 'which', 'springs', 'eternal', 'in', 'the', 'human', 'breast', 'They', 'thought', 'If', 'only', 'Casey', 'could', 'but', 'get', 'a', 'whack', 'at', 'that', 'We', 'd', 'put', 'up', 'even', 'money', 'now', 'with', 'Casey', 'at', 'the', 'bat', 'But', 'Flynn', 'preceded', 'Casey', 'as', 'did', 'also', 'Jimmy', 'Blake', 'And', 'the', 'former', 'was', 'a', 'lulu', 'while', 'the', 'latter', 'was', 'a', 'cake', 'So', 'upon', 'that', 'stricken', 'multitude', 'grim', 'melancholy', 'sat', 'For', 'there', 'seemed', 'but', 'little', 'chance', 'of', 'Casey', 'getting', 'to', 'the', 'bat', 'But', 'Flynn', 'let', 'drive', 'a', 'single', 'to', 'the', 'wonderment', 'of', 'all', 'And', 'Blake', 'the', 'much', 'despised', 'tore', 'the', 'cover', 'off', 'the', 'ball', 'And', 'when', 'the', 'dust', 'had', 'lifted', 'and', 'men', 'saw', 'what', 'had', 'occurred', 'There', 'was', 'Jimmy', 'safe', 'at', 'second', 'and', 'Flynn', 'a', 'hugging', 'third', 'Then', 'from', 'five', 'thousand', 'throats', 'and', 'more', 'there', 'rose', 'a', 'lusty', 'yell', 'It', 'rumbled', 'through', 'the', 'valley', 'it', 'rattled', 'in', 'the', 'dell', 'It', 'pounded', 'on', 'the', 'mountain', 'and', 'recoiled', 'upon', 'the', 'flat', 'For', 'Casey', 'mighty', 'Casey', 'was', 'advancing', 'to', 'the', 'bat', 'There', 'was', 'ease', 'in', 'Casey', 's', 'manner', 'as', 'he', 'stepped', 'into', 'his', 'place', 'There', 'was', 'pride', 'in', 'Casey', 's', 'bearing', 'and', 'a', 'smile', 'lit', 'Casey', 's', 'face', 'And', 'when', 'responding', 'to', 'the', 'cheers', 'he', 'lightly', 'doffed', 'his', 'hat', 'No', 'stranger', 'in', 'the', 'crowd', 'could', 'doubt', 'twas', 'Casey', 'at', 'the', 'bat', 'Ten', 'thousand', 'eyes', 'were', 'on', 'him', 'as', 'he', 'rubbed', 'his', 'hands', 'with', 'dirt', 'Five', 'thousand', 'tongues', 'applauded', 'when', 'he', 'wiped', 'them', 'on', 'his', 'shirt', 'Then', 'while', 'the', 'writhing', 'pitcher', 'ground', 'the', 'ball', 'into', 'his', 'hip', 'Defiance', 'flashed', 'in', 'Casey', 's', 'eye', 'a', 'sneer', 'curled', 'Casey', 's', 'lip', 'And', 'now', 'the', 'leather', 'covered', 'sphere', 'came', 'hurtling', 'through', 'the', 'air', 'And', 'Casey', 'stood', 'a', 'watching', 'it', 'in', 'haughty', 'grandeur', 'there', 'Close', 'by', 'the', 'sturdy', 'batsman', 'the', 'ball', 'unheeded', 'sped', 'That', 'ain', 't', 'my', 'style', 'said', 'Casey', 'Strike', 'one', 'the', 'umpire', 'said', 'From', 'the', 'benches', 'black', 'with', 'people', 'there', 'went', 'up', 'a', 'muffled', 'roar', 'Like', 'the', 'beating', 'of', 'the', 'storm', 'waves', 'on', 'a', 'stern', 'and', 'distant', 'shore', 'Kill', 'him', 'Kill', 'the', 'umpire', 'shouted', 'some', 'one', 'on', 'the', 'stand', 'And', 'it', 's', 'likely', 'they', 'd', 'have', 'killed', 'him', 'had', 'not', 'Casey', 'raised', 'his', 'hand', 'With', 'a', 'smile', 'of', 'Christian', 'charity', 'great', 'Casey', 's', 'visage', 'shone', 'He', 'stilled', 'the', 'rising', 'tumult', 'he', 'bade', 'the', 'game', 'go', 'on', 'He', 'signaled', 'to', 'the', 'pitcher', 'and', 'once', 'more', 'the', 'dun', 'sphere', 'flew', 'But', 'Casey', 'still', 'ignored', 'it', 'and', 'the', 'umpire', 'said', 'Strike', 'two', 'Fraud', 'cried', 'the', 'maddened', 'thousands', 'and', 'echo', 'answered', 'Fraud', 'But', 'one', 'scornful', 'look', 'from', 'Casey', 'and', 'the', 'audience', 'was', 'awed', 'They', 'saw', 'his', 'face', 'grow', 'stern', 'and', 'cold', 'they', 'saw', 'his', 'muscles', 'strain', 'And', 'they', 'knew', 'that', 'Casey', 'wouldn', 't', 'let', 'that', 'ball', 'go', 'by', 'again', 'The', 'sneer', 'has', 'fled', 'from', 'Casey', 's', 'lip', 'his', 'teeth', 'are', 'clenched', 'in', 'hate', 'He', 'pounds', 'with', 'cruel', 'violence', 'his', 'bat', 'upon', 'the', 'plate', 'And', 'now', 'the', 'pitcher', 'holds', 'the', 'ball', 'and', 'now', 'he', 'lets', 'it', 'go', 'And', 'now', 'the', 'air', 'is', 'shattered', 'by', 'the', 'force', 'of', 'Casey', 's', 'blow', 'Oh', 'somewhere', 'in', 'this', 'favored', 'land', 'the', 'sun', 'is', 'shining', 'bright', 'The', 'band', 'is', 'playing', 'somewhere', 'and', 'somewhere', 'hearts', 'are', 'light', 'And', 'somewhere', 'men', 'are', 'laughing', 'and', 'little', 'children', 'shout', 'But', 'there', 'is', 'no', 'joy', 'in', 'Mudville', 'great', 'Casey', 'has', 'struck', 'out']\n"
     ]
    }
   ],
   "source": [
    "# 1. Extract list of all words\n",
    "#text1 = \"Hey how are you!\"\n",
    "pattern_0 = re.findall(r'\\b\\w+\\b',content)  \n",
    "print(pattern_0)"
   ]
  },
  {
   "cell_type": "code",
   "execution_count": 4,
   "id": "b31fda66",
   "metadata": {},
   "outputs": [
    {
     "name": "stdout",
     "output_type": "stream",
     "text": [
      "['The', 'Mudville', 'The', 'And', 'Cooney', 'Barrows', 'A', 'A', 'The', 'Clung', 'They', 'If', 'Casey', 'We', 'Casey', 'But', 'Flynn', 'Casey', 'Jimmy', 'Blake', 'And', 'So', 'For', 'Casey', 'But', 'Flynn', 'And', 'Blake', 'And', 'There', 'Jimmy', 'Flynn', 'Then', 'It', 'It', 'For', 'Casey', 'Casey', 'There', 'Casey', 'There', 'Casey', 'Casey', 'And', 'No', 'Casey', 'Ten', 'Five', 'Then', 'Defiance', 'Casey', 'Casey', 'And', 'And', 'Casey', 'Close', 'That', 'Casey', 'Strike', 'From', 'Like', 'Kill', 'Kill', 'And', 'Casey', 'With', 'Christian', 'Casey', 'He', 'He', 'But', 'Casey', 'Strike', 'Fraud', 'Fraud', 'But', 'Casey', 'They', 'And', 'Casey', 'The', 'Casey', 'He', 'And', 'And', 'Casey', 'Oh', 'The', 'And', 'But', 'Mudville', 'Casey']\n"
     ]
    }
   ],
   "source": [
    "# 2. Extract list of all words starting with a capital letter\n",
    "#check2 = \"No i Donot mean this At all\"\n",
    "pattern_1 = re.findall(r'\\b[A-Z]\\w*\\b', content)\n",
    "print(pattern_1)"
   ]
  },
  {
   "cell_type": "code",
   "execution_count": 5,
   "id": "ac7271ce",
   "metadata": {},
   "outputs": [
    {
     "name": "stdout",
     "output_type": "stream",
     "text": [
      "['score', 'stood', 'first', 'Clung', 'which', 'human', 'Casey', 'could', 'whack', 'money', 'Casey', 'Flynn', 'Casey', 'Jimmy', 'Blake', 'while', 'there', 'Casey', 'Flynn', 'drive', 'Blake', 'cover', 'There', 'Jimmy', 'Flynn', 'third', 'there', 'lusty', 'Casey', 'Casey', 'There', 'Casey', 'place', 'There', 'pride', 'Casey', 'smile', 'Casey', 'crowd', 'could', 'doubt', 'Casey', 'hands', 'wiped', 'shirt', 'while', 'Casey', 'sneer', 'Casey', 'Casey', 'stood', 'there', 'Close', 'style', 'Casey', 'black', 'there', 'storm', 'waves', 'stern', 'shore', 'stand', 'Casey', 'smile', 'great', 'Casey', 'shone', 'Casey', 'still', 'Fraud', 'cried', 'Fraud', 'Casey', 'stern', 'Casey', 'again', 'sneer', 'Casey', 'teeth', 'cruel', 'plate', 'holds', 'force', 'Casey', 'light', 'shout', 'there', 'great', 'Casey']\n"
     ]
    }
   ],
   "source": [
    "# 3. Extract list of all words of length 5\n",
    "#check3 = \"Apple, Mango,Orange, Melon, Carrot, Strawberry\"\n",
    "pattern_2 = re.findall(r'\\b\\w{5}\\b',content)\n",
    "print(pattern_2)"
   ]
  },
  {
   "cell_type": "code",
   "execution_count": 6,
   "id": "1f3694e4",
   "metadata": {},
   "outputs": [
    {
     "name": "stdout",
     "output_type": "stream",
     "text": [
      "['\"If only Casey could but get a whack at that--\\nWe\\'d put up even money now, with Casey at the bat.\"', '\"That ain\\'t my style,\"', '\"Strike one!\"', '\"Kill him! Kill the umpire!\"', '\"Strike two!\"', '\"Fraud!\"', '\"Fraud!\"']\n"
     ]
    }
   ],
   "source": [
    "# 4. Extract list of all words inside double quotes\n",
    "#check4 = \"the color \\\"can be\\\" written \\\"as\\\" colour\"\n",
    "pattern_3 = re.findall(r'\\\"[^\\\"]*\\\"',content)\n",
    "print(pattern_3)"
   ]
  },
  {
   "cell_type": "code",
   "execution_count": 7,
   "id": "291cc600",
   "metadata": {},
   "outputs": [
    {
     "name": "stdout",
     "output_type": "stream",
     "text": [
      "['outlook', 'one', 'inning', 'And', 'at', 'and', 'A', 'upon', 'of', 'A', 'up', 'in', 'eternal', 'in', 'If', 'only', 'a', 'at', 'up', 'even', 'at', 'as', 'also', 'And', 'a', 'a', 'upon', 'of', 'a', 'of', 'all', 'And', 'off', 'And', 'and', 'occurred', 'at', 'and', 'a', 'and', 'a', 'It', 'it', 'in', 'It', 'on', 'and', 'upon', 'advancing', 'ease', 'in', 'as', 'into', 'in', 'and', 'a', 'And', 'in', 'at', 'eyes', 'on', 'as', 'applauded', 'on', 'into', 'in', 'eye', 'a', 'And', 'air', 'And', 'a', 'it', 'in', 'unheeded', 'ain', 'one', 'umpire', 'up', 'a', 'of', 'on', 'a', 'and', 'umpire', 'one', 'on', 'And', 'it', 'a', 'of', 'on', 'and', 'once', 'ignored', 'it', 'and', 'umpire', 'and', 'echo', 'answered', 'one', 'and', 'audience', 'awed', 'and', 'And', 'again', 'are', 'in', 'upon', 'And', 'and', 'it', 'And', 'air', 'is', 'of', 'Oh', 'in', 'is', 'is', 'and', 'are', 'And', 'are', 'and', 'is', 'in', 'out']\n"
     ]
    }
   ],
   "source": [
    "# 5. Extract list of all vowels\n",
    "#check5 = \"Zebra, octopus, Snake, Elephant, Ant, Monkey\"\n",
    "pattern_4 = re.findall(r'\\b[AEIOUaeiou]\\w*\\b',content)\n",
    "print(pattern_4)"
   ]
  },
  {
   "cell_type": "code",
   "execution_count": 8,
   "id": "bad123fe",
   "metadata": {},
   "outputs": [
    {
     "name": "stdout",
     "output_type": "stream",
     "text": [
      "['The', 'the', 'The', 'one', 'the', 'the', 'the', 'The', 'the', 'the', 'the', 'the', 'the', 'the', 'the', 'the', 'the', 'the', 'the', 'the', 'the', 'the', 'the', 'the', 'the', 'the', 'the', 'the', 'eye', 'the', 'the', 'the', 'the', 'one', 'the', 'the', 'the', 'the', 'the', 'one', 'the', 'the', 'the', 'the', 'the', 'the', 'the', 'one', 'the', 'The', 'are', 'the', 'the', 'the', 'the', 'the', 'the', 'The', 'are', 'are']\n"
     ]
    }
   ],
   "source": [
    "# 6. Extract list of 3 letter words ending with letter ‘e’\n",
    "#check6 = \"The house is full of ants and bee was there\"\n",
    "pattern_5 = re.findall(r'\\b\\w{2}e\\b',content)\n",
    "print(pattern_5)"
   ]
  },
  {
   "cell_type": "code",
   "execution_count": 9,
   "id": "1b8f08a1",
   "metadata": {},
   "outputs": [
    {
     "name": "stdout",
     "output_type": "stream",
     "text": [
      "[]\n"
     ]
    }
   ],
   "source": [
    "# 7. Extract list of all words starting and ending with letter ‘b’\n",
    "#check7 = \"bedumb and leave the Breadcrumb on the floor\"\n",
    "pattern_6 = re.findall(r'\\b[Bb]\\w*[Bb]\\b',content)\n",
    "print(pattern_6)"
   ]
  },
  {
   "cell_type": "code",
   "execution_count": 10,
   "id": "9280de70",
   "metadata": {},
   "outputs": [
    {
     "name": "stdout",
     "output_type": "stream",
     "text": [
      "The outlook wasnt brilliant for the Mudville nine that day \n",
      "The score stood four to two with but one inning more to play\n",
      "And then when Cooney died at first and Barrows did the same\n",
      "A palllike silence fell upon the patrons of the game \n",
      "\n",
      "A straggling few got up to go in deep despair The rest\n",
      "Clung to that hope which springs eternal in the human breast\n",
      "They thought If only Casey could but get a whack at that\n",
      "Wed put up even money now with Casey at the bat \n",
      "\n",
      "But Flynn preceded Casey as did also Jimmy Blake\n",
      "And the former was a lulu while the latter was a cake\n",
      "So upon that stricken multitude grim melancholy sat\n",
      "For there seemed but little chance of Casey getting to the bat\n",
      "\n",
      "But Flynn let drive a single to the wonderment of all\n",
      "And Blake the much despised tore the cover off the ball\n",
      "And when the dust had lifted and men saw what had occurred\n",
      "There was Jimmy safe at second and Flynn ahugging third \n",
      "\n",
      "Then from five thousand throats and more there rose a lusty yell\n",
      "It rumbled through the valley it rattled in the dell\n",
      "It pounded on the mountain and recoiled upon the flat\n",
      "For Casey mighty Casey was advancing to the bat \n",
      "\n",
      "There was ease in Caseys manner as he stepped into his place\n",
      "There was pride in Caseys bearing and a smile lit Caseys face\n",
      "And when responding to the cheers he lightly doffed his hat\n",
      "No stranger in the crowd could doubt twas Casey at the bat \n",
      "\n",
      "Ten thousand eyes were on him as he rubbed his hands with dirt\n",
      "Five thousand tongues applauded when he wiped them on his shirt\n",
      "Then while the writhing pitcher ground the ball into his hip\n",
      "Defiance flashed in Caseys eye a sneer curled Caseys lip \n",
      "\n",
      "And now the leathercovered sphere came hurtling through the air\n",
      "And Casey stood awatching it in haughty grandeur there\n",
      "Close by the sturdy batsman the ball unheeded sped\n",
      "That aint my style said Casey Strike one the umpire said \n",
      "\n",
      "From the benches black with people there went up a muffled roar\n",
      "Like the beating of the stormwaves on a stern and distant shore\n",
      "Kill him Kill the umpire shouted some one on the stand\n",
      "And its likely theyd have killed him had not Casey raised his hand \n",
      "\n",
      "With a smile of Christian charity great Caseys visage shone\n",
      "He stilled the rising tumult he bade the game go on\n",
      "He signaled to the pitcher and once more the dun sphere flew\n",
      "But Casey still ignored it and the umpire said Strike two \n",
      "\n",
      "Fraud cried the maddened thousands and echo answered Fraud\n",
      "But one scornful look from Casey and the audience was awed\n",
      "They saw his face grow stern and cold they saw his muscles strain\n",
      "And they knew that Casey wouldnt let that ball go by again \n",
      "\n",
      "The sneer has fled from Caseys lip his teeth are clenched in hate\n",
      "He pounds with cruel violence his bat upon the plate\n",
      "And now the pitcher holds the ball and now he lets it go\n",
      "And now the air is shattered by the force of Caseys blow \n",
      "\n",
      "Oh somewhere in this favored land the sun is shining bright\n",
      "The band is playing somewhere and somewhere hearts are light\n",
      "And somewhere men are laughing and little children shout\n",
      "But there is no joy in Mudvillegreat Casey has struck out\n",
      "\n"
     ]
    }
   ],
   "source": [
    "# 8. Remove all the punctuation marks from the text\n",
    "pattern = \"[!\\\"#$%&'(\\)*,-@./:;<=>?[\\\\]^_{`|}~]\"\n",
    "pattern_7 = re.sub(pattern, '', content)\n",
    "print(pattern_7)"
   ]
  },
  {
   "cell_type": "code",
   "execution_count": 11,
   "id": "5c11abf4",
   "metadata": {},
   "outputs": [
    {
     "name": "stdout",
     "output_type": "stream",
     "text": [
      "The outlook wasnot brilliant for the Mudville nine that day; \n",
      "The score stood four to two, with but one inning more to play,\n",
      "And then when Cooney died at first, and Barrows did the same,\n",
      "A pall-like silence fell upon the patrons of the game. \n",
      "\n",
      "A straggling few got up to go in deep despair. The rest\n",
      "Clung to that hope which springs eternal in the human breast;\n",
      "They thought, \"If only Casey could but get a whack at that--\n",
      "We'd put up even money now, with Casey at the bat.\" \n",
      "\n",
      "But Flynn preceded Casey, as did also Jimmy Blake,\n",
      "And the former was a lulu, while the latter was a cake;\n",
      "So upon that stricken multitude grim melancholy sat,\n",
      "For there seemed but little chance of Casey getting to the bat.\n",
      "\n",
      "But Flynn let drive a single, to the wonderment of all,\n",
      "And Blake, the much despised, tore the cover off the ball;\n",
      "And when the dust had lifted, and men saw what had occurred,\n",
      "There was Jimmy safe at second and Flynn a-hugging third. \n",
      "\n",
      "Then from five thousand throats and more there rose a lusty yell;\n",
      "It rumbled through the valley, it rattled in the dell;\n",
      "It pounded on the mountain and recoiled upon the flat,\n",
      "For Casey, mighty Casey, was advancing to the bat. \n",
      "\n",
      "There was ease in Casey's manner as he stepped into his place;\n",
      "There was pride in Casey's bearing and a smile lit Casey's face.\n",
      "And when, responding to the cheers, he lightly doffed his hat,\n",
      "No stranger in the crowd could doubt 'twas Casey at the bat. \n",
      "\n",
      "Ten thousand eyes were on him as he rubbed his hands with dirt;\n",
      "Five thousand tongues applauded when he wiped them on his shirt;\n",
      "Then while the writhing pitcher ground the ball into his hip,\n",
      "Defiance flashed in Casey's eye, a sneer curled Casey's lip. \n",
      "\n",
      "And now the leather-covered sphere came hurtling through the air,\n",
      "And Casey stood a-watching it in haughty grandeur there.\n",
      "Close by the sturdy batsman the ball unheeded sped--\n",
      "\"That ainot my style,\" said Casey. \"Strike one!\" the umpire said. \n",
      "\n",
      "From the benches, black with people, there went up a muffled roar,\n",
      "Like the beating of the storm-waves on a stern and distant shore;\n",
      "\"Kill him! Kill the umpire!\" shouted some one on the stand;\n",
      "And it's likely they'd have killed him had not Casey raised his hand. \n",
      "\n",
      "With a smile of Christian charity great Casey's visage shone;\n",
      "He stilled the rising tumult; he bade the game go on;\n",
      "He signaled to the pitcher, and once more the dun sphere flew;\n",
      "But Casey still ignored it, and the umpire said, \"Strike two!\" \n",
      "\n",
      "\"Fraud!\" cried the maddened thousands, and echo answered \"Fraud!\"\n",
      "But one scornful look from Casey and the audience was awed.\n",
      "They saw his face grow stern and cold, they saw his muscles strain,\n",
      "And they knew that Casey wouldnot let that ball go by again. \n",
      "\n",
      "The sneer has fled from Casey's lip, his teeth are clenched in hate;\n",
      "He pounds with cruel violence his bat upon the plate.\n",
      "And now the pitcher holds the ball, and now he lets it go.\n",
      "And now the air is shattered by the force of Casey's blow. \n",
      "\n",
      "Oh, somewhere in this favored land the sun is shining bright;\n",
      "The band is playing somewhere, and somewhere hearts are light,\n",
      "And somewhere men are laughing, and little children shout;\n",
      "But there is no joy in Mudville--great Casey has struck out\n",
      "\n"
     ]
    }
   ],
   "source": [
    "# 9. Replace all words ending ‘n't’ to their full form ‘not’\n",
    "# /1 is backreference that refer to first capturing group in the regular expression\n",
    "#check9 = \"This might n't be the case, don't say n't no matter don't repeat\"\n",
    "pattern_8 = r'\\b(\\w*)n\\'t\\b'\n",
    "replace_8 = r'\\1not'\n",
    "result_8 = re.sub(pattern_8, replace_8, content)\n",
    "print(result_8)"
   ]
  },
  {
   "cell_type": "code",
   "execution_count": 12,
   "id": "d72dbe17",
   "metadata": {},
   "outputs": [
    {
     "name": "stdout",
     "output_type": "stream",
     "text": [
      "The outlook wasn't brilliant for the Mudville nine that day;  The score stood four to two, with but one inning more to play, And then when Cooney died at first, and Barrows did the same, A pall-like silence fell upon the patrons of the game.   A straggling few got up to go in deep despair. The rest Clung to that hope which springs eternal in the human breast; They thought, \"If only Casey could but get a whack at that-- We'd put up even money now, with Casey at the bat.\"   But Flynn preceded Casey, as did also Jimmy Blake, And the former was a lulu, while the latter was a cake; So upon that stricken multitude grim melancholy sat, For there seemed but little chance of Casey getting to the bat.  But Flynn let drive a single, to the wonderment of all, And Blake, the much despised, tore the cover off the ball; And when the dust had lifted, and men saw what had occurred, There was Jimmy safe at second and Flynn a-hugging third.   Then from five thousand throats and more there rose a lusty yell; It rumbled through the valley, it rattled in the dell; It pounded on the mountain and recoiled upon the flat, For Casey, mighty Casey, was advancing to the bat.   There was ease in Casey's manner as he stepped into his place; There was pride in Casey's bearing and a smile lit Casey's face. And when, responding to the cheers, he lightly doffed his hat, No stranger in the crowd could doubt 'twas Casey at the bat.   Ten thousand eyes were on him as he rubbed his hands with dirt; Five thousand tongues applauded when he wiped them on his shirt; Then while the writhing pitcher ground the ball into his hip, Defiance flashed in Casey's eye, a sneer curled Casey's lip.   And now the leather-covered sphere came hurtling through the air, And Casey stood a-watching it in haughty grandeur there. Close by the sturdy batsman the ball unheeded sped-- \"That ain't my style,\" said Casey. \"Strike one!\" the umpire said.   From the benches, black with people, there went up a muffled roar, Like the beating of the storm-waves on a stern and distant shore; \"Kill him! Kill the umpire!\" shouted some one on the stand; And it's likely they'd have killed him had not Casey raised his hand.   With a smile of Christian charity great Casey's visage shone; He stilled the rising tumult; he bade the game go on; He signaled to the pitcher, and once more the dun sphere flew; But Casey still ignored it, and the umpire said, \"Strike two!\"   \"Fraud!\" cried the maddened thousands, and echo answered \"Fraud!\" But one scornful look from Casey and the audience was awed. They saw his face grow stern and cold, they saw his muscles strain, And they knew that Casey wouldn't let that ball go by again.   The sneer has fled from Casey's lip, his teeth are clenched in hate; He pounds with cruel violence his bat upon the plate. And now the pitcher holds the ball, and now he lets it go. And now the air is shattered by the force of Casey's blow.   Oh, somewhere in this favored land the sun is shining bright; The band is playing somewhere, and somewhere hearts are light, And somewhere men are laughing, and little children shout; But there is no joy in Mudville--great Casey has struck out \n"
     ]
    }
   ],
   "source": [
    "# 10. Replace all the new lines with a single space\n",
    "result_9 = re.sub(r'\\n',' ', content)\n",
    "print(result_9)"
   ]
  },
  {
   "cell_type": "code",
   "execution_count": null,
   "id": "b14dd9b9",
   "metadata": {},
   "outputs": [],
   "source": []
  }
 ],
 "metadata": {
  "kernelspec": {
   "display_name": "Python 3 (ipykernel)",
   "language": "python",
   "name": "python3"
  },
  "language_info": {
   "codemirror_mode": {
    "name": "ipython",
    "version": 3
   },
   "file_extension": ".py",
   "mimetype": "text/x-python",
   "name": "python",
   "nbconvert_exporter": "python",
   "pygments_lexer": "ipython3",
   "version": "3.11.4"
  }
 },
 "nbformat": 4,
 "nbformat_minor": 5
}
